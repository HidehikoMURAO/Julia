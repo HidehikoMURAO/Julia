{
 "cells": [
  {
   "cell_type": "code",
   "execution_count": 3,
   "id": "removed-monday",
   "metadata": {},
   "outputs": [
    {
     "name": "stdout",
     "output_type": "stream",
     "text": [
      "hello worldHello World"
     ]
    }
   ],
   "source": [
    "print(\"hello world\") # printは最後に改行が入らない\n",
    "print(\"Hello World\")"
   ]
  },
  {
   "cell_type": "code",
   "execution_count": 4,
   "id": "musical-american",
   "metadata": {},
   "outputs": [
    {
     "name": "stdout",
     "output_type": "stream",
     "text": [
      "hello world\n",
      "Hello World\n"
     ]
    }
   ],
   "source": [
    "println(\"hello world\") # printlnは改行が入る．\n",
    "println(\"Hello World\")"
   ]
  },
  {
   "cell_type": "code",
   "execution_count": 5,
   "id": "structured-failing",
   "metadata": {},
   "outputs": [
    {
     "name": "stdout",
     "output_type": "stream",
     "text": [
      "変数 = 12\n"
     ]
    }
   ],
   "source": [
    "a = 12\n",
    "println(\"変数 = $a\")"
   ]
  },
  {
   "cell_type": "code",
   "execution_count": 6,
   "id": "invisible-draft",
   "metadata": {},
   "outputs": [
    {
     "name": "stdout",
     "output_type": "stream",
     "text": [
      "変数 = 6.0\n"
     ]
    }
   ],
   "source": [
    "a = 12\n",
    "println(\"変数 = $(a/2)\")"
   ]
  },
  {
   "cell_type": "code",
   "execution_count": 7,
   "id": "czech-fleet",
   "metadata": {},
   "outputs": [
    {
     "name": "stdout",
     "output_type": "stream",
     "text": [
      "円周率 = 12.566370614359172\n"
     ]
    }
   ],
   "source": [
    "A = π * 2^2\n",
    "println(\"円周率 = $A\")"
   ]
  },
  {
   "cell_type": "code",
   "execution_count": 9,
   "id": "equipped-isolation",
   "metadata": {},
   "outputs": [
    {
     "name": "stdout",
     "output_type": "stream",
     "text": [
      "ξ = 1.2\n"
     ]
    }
   ],
   "source": [
    "ξ = 1.2\n",
    "println(\"ξ = $ξ\")"
   ]
  },
  {
   "cell_type": "code",
   "execution_count": 10,
   "id": "coral-performance",
   "metadata": {},
   "outputs": [
    {
     "name": "stdout",
     "output_type": "stream",
     "text": [
      "1, 2, 3\n",
      "7, 8, 9\n"
     ]
    }
   ],
   "source": [
    "println(\"1, 2, 3\")  # 実行される\n",
    "#println(\"4, 5, 6\") # 実行されない\n",
    "println(\"7, 8, 9\")  # 実行される"
   ]
  },
  {
   "cell_type": "code",
   "execution_count": 15,
   "id": "nearby-basic",
   "metadata": {},
   "outputs": [
    {
     "name": "stdout",
     "output_type": "stream",
     "text": [
      "Any[]\n"
     ]
    }
   ],
   "source": [
    "a = [];\n",
    "println(a)"
   ]
  },
  {
   "cell_type": "code",
   "execution_count": 16,
   "id": "previous-medicine",
   "metadata": {},
   "outputs": [
    {
     "name": "stdout",
     "output_type": "stream",
     "text": [
      "Float64[]\n"
     ]
    }
   ],
   "source": [
    "a = Float64[]; \n",
    "println(a)"
   ]
  },
  {
   "cell_type": "code",
   "execution_count": 14,
   "id": "informed-melissa",
   "metadata": {},
   "outputs": [
    {
     "name": "stdout",
     "output_type": "stream",
     "text": [
      "[4, 3, 2, 1]\n"
     ]
    }
   ],
   "source": [
    "a = [4, 3, 2, 1]; \n",
    "println(a)"
   ]
  },
  {
   "cell_type": "code",
   "execution_count": 17,
   "id": "regular-jefferson",
   "metadata": {},
   "outputs": [
    {
     "name": "stdout",
     "output_type": "stream",
     "text": [
      "[4.0, 3.0, 2.0, 1.0]\n"
     ]
    }
   ],
   "source": [
    "a = Float64[4, 3, 2, 1]; \n",
    "println(a)"
   ]
  },
  {
   "cell_type": "code",
   "execution_count": 19,
   "id": "vertical-setup",
   "metadata": {},
   "outputs": [
    {
     "name": "stdout",
     "output_type": "stream",
     "text": [
      "[1.2, 1.3, 1.4]\n"
     ]
    }
   ],
   "source": [
    "a = [1.2, 1.3, 1.4]\n",
    "println(a)"
   ]
  },
  {
   "cell_type": "code",
   "execution_count": 20,
   "id": "biblical-decrease",
   "metadata": {},
   "outputs": [
    {
     "name": "stdout",
     "output_type": "stream",
     "text": [
      "Any[1, 3, 5]\n"
     ]
    }
   ],
   "source": [
    "a = []\n",
    "append!(a, 1)\n",
    "append!(a, 3)\n",
    "append!(a, 5)\n",
    "println(a)"
   ]
  },
  {
   "cell_type": "markdown",
   "id": "vocational-router",
   "metadata": {},
   "source": [
    "append! の!は，引数(ひきすう)の変数を変える関数であることを明示的にするためにつける"
   ]
  },
  {
   "cell_type": "code",
   "execution_count": 21,
   "id": "welcome-richardson",
   "metadata": {},
   "outputs": [
    {
     "name": "stdout",
     "output_type": "stream",
     "text": [
      "Any[1, 2, 3, 4]\n"
     ]
    }
   ],
   "source": [
    "a = []\n",
    "append!(a, [1, 2])\n",
    "append!(a, [3, 4])\n",
    "println(a)"
   ]
  },
  {
   "cell_type": "code",
   "execution_count": 22,
   "id": "amateur-hollow",
   "metadata": {},
   "outputs": [
    {
     "name": "stdout",
     "output_type": "stream",
     "text": [
      "Any[[1, 2], [3, 4]]\n"
     ]
    }
   ],
   "source": [
    "a = []\n",
    "push!(a, [1, 2])\n",
    "push!(a, [3, 4])\n",
    "println(a)"
   ]
  },
  {
   "cell_type": "markdown",
   "id": "excessive-language",
   "metadata": {},
   "source": [
    "### 行列"
   ]
  },
  {
   "cell_type": "code",
   "execution_count": 23,
   "id": "empirical-constraint",
   "metadata": {},
   "outputs": [
    {
     "data": {
      "text/plain": [
       "2×2 Array{Float64,2}:\n",
       " 1.0  2.0\n",
       " 3.0  4.0"
      ]
     },
     "execution_count": 23,
     "metadata": {},
     "output_type": "execute_result"
    }
   ],
   "source": [
    "M = Float64[\n",
    "    1 2\n",
    "    3 4\n",
    "]"
   ]
  },
  {
   "cell_type": "code",
   "execution_count": 24,
   "id": "selected-barcelona",
   "metadata": {},
   "outputs": [
    {
     "data": {
      "text/plain": [
       "2×2 Array{Float64,2}:\n",
       " 1.0  2.0\n",
       " 3.0  4.0"
      ]
     },
     "execution_count": 24,
     "metadata": {},
     "output_type": "execute_result"
    }
   ],
   "source": [
    "M = [\n",
    "    1.0 2.0\n",
    "    3.0 4.0\n",
    "    ]"
   ]
  },
  {
   "cell_type": "code",
   "execution_count": 25,
   "id": "crucial-plasma",
   "metadata": {},
   "outputs": [
    {
     "name": "stdout",
     "output_type": "stream",
     "text": [
      "[6.0, 3.0]\n"
     ]
    }
   ],
   "source": [
    "M = [\n",
    "    0.0 3.0\n",
    "    3.0 0.0\n",
    "    ]\n",
    "v = [1.0, 2.0]\n",
    "println(M * v)"
   ]
  },
  {
   "cell_type": "code",
   "execution_count": 26,
   "id": "alternative-regard",
   "metadata": {},
   "outputs": [
    {
     "name": "stdout",
     "output_type": "stream",
     "text": [
      "[1.0 2.0; 2.0 4.0]\n",
      "5.0\n"
     ]
    }
   ],
   "source": [
    "v = [1.0, 2.0]\n",
    "println(v * v')\n",
    "println(v' * v)"
   ]
  },
  {
   "cell_type": "code",
   "execution_count": 27,
   "id": "earlier-manual",
   "metadata": {},
   "outputs": [
    {
     "name": "stdout",
     "output_type": "stream",
     "text": [
      "2, 4\n"
     ]
    }
   ],
   "source": [
    "a = [2, 4, 6, 8]\n",
    "println(\"$(a[1]), $(a[2])\")"
   ]
  },
  {
   "cell_type": "code",
   "execution_count": 28,
   "id": "decent-tiger",
   "metadata": {},
   "outputs": [
    {
     "name": "stdout",
     "output_type": "stream",
     "text": [
      "2 は偶数\n"
     ]
    }
   ],
   "source": [
    "a = 2\n",
    "if a % 2 == 0  # ifブロックは，if ... end のようにend で終わる必要がある\n",
    "    println(\"$a は偶数\")\n",
    "else\n",
    "    println(\"$a は奇数\")\n",
    "end"
   ]
  },
  {
   "cell_type": "markdown",
   "id": "viral-communist",
   "metadata": {},
   "source": [
    "### for"
   ]
  },
  {
   "cell_type": "code",
   "execution_count": 30,
   "id": "representative-business",
   "metadata": {},
   "outputs": [
    {
     "name": "stdout",
     "output_type": "stream",
     "text": [
      "繰り返し処理 i = 1 番目\n",
      "繰り返し処理 i = 2 番目\n",
      "繰り返し処理 i = 3 番目\n"
     ]
    }
   ],
   "source": [
    "for i = 1:3    # forブロックも，for ... end のように end で終わる必要がある．\n",
    "    println(\"繰り返し処理 i = $i 番目\")\n",
    "end"
   ]
  },
  {
   "cell_type": "code",
   "execution_count": 31,
   "id": "virgin-assurance",
   "metadata": {},
   "outputs": [
    {
     "name": "stdout",
     "output_type": "stream",
     "text": [
      "1\n",
      "2\n",
      "3\n"
     ]
    }
   ],
   "source": [
    "li = [1, 2, 3]\n",
    "for el in li\n",
    "    println(el)\n",
    "end"
   ]
  },
  {
   "cell_type": "markdown",
   "id": "better-bhutan",
   "metadata": {},
   "source": [
    "### Function"
   ]
  },
  {
   "cell_type": "code",
   "execution_count": 32,
   "id": "assumed-status",
   "metadata": {},
   "outputs": [
    {
     "name": "stdout",
     "output_type": "stream",
     "text": [
      "1^2 = 1\n",
      "2^2 = 4\n"
     ]
    }
   ],
   "source": [
    "function square(x)\n",
    "    y = x^2\n",
    "    return y\n",
    "end\n",
    "println(\"1^2 = $(square(1))\")\n",
    "println(\"2^2 = $(square(2))\")"
   ]
  },
  {
   "cell_type": "markdown",
   "id": "wooden-charles",
   "metadata": {},
   "source": [
    "実行速度の比較"
   ]
  },
  {
   "cell_type": "code",
   "execution_count": 33,
   "id": "optional-bristol",
   "metadata": {},
   "outputs": [
    {
     "name": "stdout",
     "output_type": "stream",
     "text": [
      "  2.064760 seconds (80.00 M allocations: 1.490 GiB, 16.79% gc time)\n",
      "  1.556396 seconds (60.01 M allocations: 1.192 GiB, 16.51% gc time)\n"
     ]
    }
   ],
   "source": [
    "Nrepeat=10^7*2\n",
    "A = collect(1:100) # 1から1000までを配列として代入。 \n",
    "@time begin        # @timeはブロックでの実行時間を調べてくれるマクロ\n",
    "    for i=1:Nrepeat\n",
    "        K = sum(A)\n",
    "    end\n",
    "end\n",
    "function calc_sum(A)\n",
    "    for i=1:Nrepeat\n",
    "        K = sum(A)\n",
    "    end\n",
    "end\n",
    "#\n",
    "@time calc_sum(A)"
   ]
  },
  {
   "cell_type": "markdown",
   "id": "technological-brighton",
   "metadata": {},
   "source": [
    "上から順に\n",
    "- トップレベルの処理(をbegin-endブロックで囲んだもの)\n",
    "- function で包んだ和\n",
    "\n",
    "この例だと差は僅かだが，本格的な計算の場合には差はより拡大する．\n",
    "Julia のプログラムの書き方としては，\n",
    "- とりあえずトップレベルに書く\n",
    "- function でくるみ，直後に呼び出す\n",
    "- 型指定をする（さらに関数内で型が変わらないように工夫する）\n",
    "という順番があり得る．\n",
    "\n",
    "また，グローバル変数はなるべく避ける．\n",
    "グローバルな定数を使う場合にはconst a=1などとして，値が変わらないことを明示すべきである．"
   ]
  },
  {
   "cell_type": "code",
   "execution_count": null,
   "id": "aggregate-dining",
   "metadata": {},
   "outputs": [],
   "source": []
  }
 ],
 "metadata": {
  "kernelspec": {
   "display_name": "Julia 1.0.5",
   "language": "julia",
   "name": "julia-1.0"
  },
  "language_info": {
   "file_extension": ".jl",
   "mimetype": "application/julia",
   "name": "julia",
   "version": "1.0.5"
  }
 },
 "nbformat": 4,
 "nbformat_minor": 5
}
