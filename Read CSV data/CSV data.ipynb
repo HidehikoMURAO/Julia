{
 "cells": [
  {
   "cell_type": "markdown",
   "metadata": {},
   "source": [
    "### Read CSV data on the Internet"
   ]
  },
  {
   "cell_type": "markdown",
   "metadata": {},
   "source": [
    "`download`関数でサンプルデータファイルをインターネットからダウンロードして，データフレームに読み込む．"
   ]
  },
  {
   "cell_type": "code",
   "execution_count": 1,
   "metadata": {},
   "outputs": [
    {
     "data": {
      "text/plain": [
       "\"iris.csv\""
      ]
     },
     "execution_count": 1,
     "metadata": {},
     "output_type": "execute_result"
    }
   ],
   "source": [
    "download(\"https://archive.ics.uci.edu/ml/machine-learning-databases/iris/iris.data\", \"iris.csv\")"
   ]
  },
  {
   "cell_type": "markdown",
   "metadata": {},
   "source": [
    "`isfile`関数でファイルがダウンロードできたことを確認する．"
   ]
  },
  {
   "cell_type": "code",
   "execution_count": 2,
   "metadata": {},
   "outputs": [
    {
     "data": {
      "text/plain": [
       "true"
      ]
     },
     "execution_count": 2,
     "metadata": {},
     "output_type": "execute_result"
    }
   ],
   "source": [
    "isfile(\"iris.csv\")"
   ]
  },
  {
   "cell_type": "markdown",
   "metadata": {},
   "source": [
    "`readline`関数で1行目を表示する．"
   ]
  },
  {
   "cell_type": "code",
   "execution_count": 3,
   "metadata": {},
   "outputs": [
    {
     "data": {
      "text/plain": [
       "\"5.1,3.5,1.4,0.2,Iris-setosa\""
      ]
     },
     "execution_count": 3,
     "metadata": {},
     "output_type": "execute_result"
    }
   ],
   "source": [
    "readline(\"iris.csv\")"
   ]
  },
  {
   "cell_type": "markdown",
   "metadata": {},
   "source": [
    "`readline`関数による表示で，1行目がカンマで区切られていて，ピリオドは小数点でヘッダ行がないことがわかる．"
   ]
  },
  {
   "cell_type": "markdown",
   "metadata": {},
   "source": [
    "`CSV.read`関数でデータを読み込み，データフレームを確認する．`CSV.read`関数はCSV形式のファイルを読み込んで，内容をDataFrameに書き込む関数．"
   ]
  },
  {
   "cell_type": "code",
   "execution_count": 4,
   "metadata": {},
   "outputs": [
    {
     "name": "stdout",
     "output_type": "stream",
     "text": [
      "thread = 1 warning: only found 1 / 5 columns on data row: 151. Filling remaining columns with `missing`\n"
     ]
    },
    {
     "data": {
      "text/html": [
       "<table class=\"data-frame\"><thead><tr><th></th><th>variable</th><th>mean</th><th>min</th><th>median</th><th>max</th><th>nunique</th><th>nmissing</th><th>eltype</th></tr><tr><th></th><th>Symbol</th><th>Union…</th><th>Any</th><th>Union…</th><th>Any</th><th>Union…</th><th>Int64</th><th>Union</th></tr></thead><tbody><p>5 rows × 8 columns</p><tr><th>1</th><td>PetalLength</td><td>5.84333</td><td>4.3</td><td>5.8</td><td>7.9</td><td></td><td>1</td><td>Union{Missing, Float64}</td></tr><tr><th>2</th><td>PetalWidth</td><td>3.054</td><td>2.0</td><td>3.0</td><td>4.4</td><td></td><td>1</td><td>Union{Missing, Float64}</td></tr><tr><th>3</th><td>SepalLength</td><td>3.75867</td><td>1.0</td><td>4.35</td><td>6.9</td><td></td><td>1</td><td>Union{Missing, Float64}</td></tr><tr><th>4</th><td>SepalWidth</td><td>1.19867</td><td>0.1</td><td>1.3</td><td>2.5</td><td></td><td>1</td><td>Union{Missing, Float64}</td></tr><tr><th>5</th><td>Class</td><td></td><td>Iris-setosa</td><td></td><td>Iris-virginica</td><td>3</td><td>1</td><td>Union{Missing, String}</td></tr></tbody></table>"
      ],
      "text/latex": [
       "\\begin{tabular}{r|cccccccc}\n",
       "\t& variable & mean & min & median & max & nunique & nmissing & eltype\\\\\n",
       "\t\\hline\n",
       "\t& Symbol & Union… & Any & Union… & Any & Union… & Int64 & Union\\\\\n",
       "\t\\hline\n",
       "\t1 & PetalLength & 5.84333 & 4.3 & 5.8 & 7.9 &  & 1 & Union\\{Missing, Float64\\} \\\\\n",
       "\t2 & PetalWidth & 3.054 & 2.0 & 3.0 & 4.4 &  & 1 & Union\\{Missing, Float64\\} \\\\\n",
       "\t3 & SepalLength & 3.75867 & 1.0 & 4.35 & 6.9 &  & 1 & Union\\{Missing, Float64\\} \\\\\n",
       "\t4 & SepalWidth & 1.19867 & 0.1 & 1.3 & 2.5 &  & 1 & Union\\{Missing, Float64\\} \\\\\n",
       "\t5 & Class &  & Iris-setosa &  & Iris-virginica & 3 & 1 & Union\\{Missing, String\\} \\\\\n",
       "\\end{tabular}\n"
      ],
      "text/plain": [
       "5×8 DataFrame. Omitted printing of 3 columns\n",
       "│ Row │ variable    │ mean    │ min         │ median │ max            │\n",
       "│     │ \u001b[90mSymbol\u001b[39m      │ \u001b[90mUnion…\u001b[39m  │ \u001b[90mAny\u001b[39m         │ \u001b[90mUnion…\u001b[39m │ \u001b[90mAny\u001b[39m            │\n",
       "├─────┼─────────────┼─────────┼─────────────┼────────┼────────────────┤\n",
       "│ 1   │ PetalLength │ 5.84333 │ 4.3         │ 5.8    │ 7.9            │\n",
       "│ 2   │ PetalWidth  │ 3.054   │ 2.0         │ 3.0    │ 4.4            │\n",
       "│ 3   │ SepalLength │ 3.75867 │ 1.0         │ 4.35   │ 6.9            │\n",
       "│ 4   │ SepalWidth  │ 1.19867 │ 0.1         │ 1.3    │ 2.5            │\n",
       "│ 5   │ Class       │         │ Iris-setosa │        │ Iris-virginica │"
      ]
     },
     "execution_count": 4,
     "metadata": {},
     "output_type": "execute_result"
    }
   ],
   "source": [
    "using CSV, DataFrames\n",
    "df = CSV.read(\"iris.csv\", \n",
    "              header = [\"PetalLength\", \"PetalWidth\", \"SepalLength\", \"SepalWidth\", \"Class\"]);\n",
    "describe(df)"
   ]
  },
  {
   "cell_type": "markdown",
   "metadata": {},
   "source": [
    "データフレームの最後の6行を見てみる．"
   ]
  },
  {
   "cell_type": "code",
   "execution_count": 5,
   "metadata": {},
   "outputs": [
    {
     "data": {
      "text/html": [
       "<table class=\"data-frame\"><thead><tr><th></th><th>PetalLength</th><th>PetalWidth</th><th>SepalLength</th><th>SepalWidth</th><th>Class</th></tr><tr><th></th><th>Float64⍰</th><th>Float64⍰</th><th>Float64⍰</th><th>Float64⍰</th><th>String⍰</th></tr></thead><tbody><p>6 rows × 5 columns</p><tr><th>1</th><td>6.7</td><td>3.0</td><td>5.2</td><td>2.3</td><td>Iris-virginica</td></tr><tr><th>2</th><td>6.3</td><td>2.5</td><td>5.0</td><td>1.9</td><td>Iris-virginica</td></tr><tr><th>3</th><td>6.5</td><td>3.0</td><td>5.2</td><td>2.0</td><td>Iris-virginica</td></tr><tr><th>4</th><td>6.2</td><td>3.4</td><td>5.4</td><td>2.3</td><td>Iris-virginica</td></tr><tr><th>5</th><td>5.9</td><td>3.0</td><td>5.1</td><td>1.8</td><td>Iris-virginica</td></tr><tr><th>6</th><td>missing</td><td>missing</td><td>missing</td><td>missing</td><td>missing</td></tr></tbody></table>"
      ],
      "text/latex": [
       "\\begin{tabular}{r|ccccc}\n",
       "\t& PetalLength & PetalWidth & SepalLength & SepalWidth & Class\\\\\n",
       "\t\\hline\n",
       "\t& Float64⍰ & Float64⍰ & Float64⍰ & Float64⍰ & String⍰\\\\\n",
       "\t\\hline\n",
       "\t1 & 6.7 & 3.0 & 5.2 & 2.3 & Iris-virginica \\\\\n",
       "\t2 & 6.3 & 2.5 & 5.0 & 1.9 & Iris-virginica \\\\\n",
       "\t3 & 6.5 & 3.0 & 5.2 & 2.0 & Iris-virginica \\\\\n",
       "\t4 & 6.2 & 3.4 & 5.4 & 2.3 & Iris-virginica \\\\\n",
       "\t5 & 5.9 & 3.0 & 5.1 & 1.8 & Iris-virginica \\\\\n",
       "\t6 &  &  &  &  &  \\\\\n",
       "\\end{tabular}\n"
      ],
      "text/plain": [
       "6×5 DataFrame\n",
       "│ Row │ PetalLength │ PetalWidth │ SepalLength │ SepalWidth │ Class          │\n",
       "│     │ \u001b[90mFloat64⍰\u001b[39m    │ \u001b[90mFloat64⍰\u001b[39m   │ \u001b[90mFloat64⍰\u001b[39m    │ \u001b[90mFloat64⍰\u001b[39m   │ \u001b[90mString⍰\u001b[39m        │\n",
       "├─────┼─────────────┼────────────┼─────────────┼────────────┼────────────────┤\n",
       "│ 1   │ 6.7         │ 3.0        │ 5.2         │ 2.3        │ Iris-virginica │\n",
       "│ 2   │ 6.3         │ 2.5        │ 5.0         │ 1.9        │ Iris-virginica │\n",
       "│ 3   │ 6.5         │ 3.0        │ 5.2         │ 2.0        │ Iris-virginica │\n",
       "│ 4   │ 6.2         │ 3.4        │ 5.4         │ 2.3        │ Iris-virginica │\n",
       "│ 5   │ 5.9         │ 3.0        │ 5.1         │ 1.8        │ Iris-virginica │\n",
       "│ 6   │ \u001b[90mmissing\u001b[39m     │ \u001b[90mmissing\u001b[39m    │ \u001b[90mmissing\u001b[39m     │ \u001b[90mmissing\u001b[39m    │ \u001b[90mmissing\u001b[39m        │"
      ]
     },
     "execution_count": 5,
     "metadata": {},
     "output_type": "execute_result"
    }
   ],
   "source": [
    "last(df, 6)"
   ]
  },
  {
   "cell_type": "code",
   "execution_count": 6,
   "metadata": {},
   "outputs": [
    {
     "name": "stderr",
     "output_type": "stream",
     "text": [
      "┌ Warning: `eltypes(df::AbstractDataFrame)` is deprecated, use `eltype.(eachcol(df))` instead.\n",
      "│   caller = top-level scope at In[6]:1\n",
      "└ @ Core In[6]:1\n"
     ]
    },
    {
     "data": {
      "text/plain": [
       "5-element Array{Union,1}:\n",
       " Union{Missing, Float64}\n",
       " Union{Missing, Float64}\n",
       " Union{Missing, Float64}\n",
       " Union{Missing, Float64}\n",
       " Union{Missing, String} "
      ]
     },
     "execution_count": 6,
     "metadata": {},
     "output_type": "execute_result"
    }
   ],
   "source": [
    "eltypes(df)"
   ]
  },
  {
   "cell_type": "markdown",
   "metadata": {},
   "source": [
    "データ中の最後の行には，missingしかない（ファイルの末尾に余計な改行が入っていたため）．"
   ]
  },
  {
   "cell_type": "markdown",
   "metadata": {},
   "source": [
    "この問題を回避するために，最後の行を切り捨てて，行の型をmissing値を許さない方に変換し，データフレーム中にmissing値がないようにする．"
   ]
  },
  {
   "cell_type": "code",
   "execution_count": 7,
   "metadata": {},
   "outputs": [
    {
     "data": {
      "text/plain": [
       "Any"
      ]
     },
     "execution_count": 7,
     "metadata": {},
     "output_type": "execute_result"
    }
   ],
   "source": [
    "df = disallowmissing!(df[1:end-1, :]);\n",
    "eltype(df)"
   ]
  },
  {
   "cell_type": "markdown",
   "metadata": {},
   "source": [
    "データを整理できたので，CSVファイルに書き出す．"
   ]
  },
  {
   "cell_type": "code",
   "execution_count": 8,
   "metadata": {},
   "outputs": [],
   "source": [
    "CSV.write(\"iris2.csv\", df);"
   ]
  },
  {
   "cell_type": "code",
   "execution_count": null,
   "metadata": {},
   "outputs": [],
   "source": []
  }
 ],
 "metadata": {
  "@webio": {
   "lastCommId": null,
   "lastKernelId": null
  },
  "kernelspec": {
   "display_name": "Julia 1.3.1",
   "language": "julia",
   "name": "julia-1.3"
  },
  "language_info": {
   "file_extension": ".jl",
   "mimetype": "application/julia",
   "name": "julia",
   "version": "1.3.1"
  }
 },
 "nbformat": 4,
 "nbformat_minor": 2
}
