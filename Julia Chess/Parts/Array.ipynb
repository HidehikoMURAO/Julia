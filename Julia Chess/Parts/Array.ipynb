{
 "cells": [
  {
   "cell_type": "markdown",
   "metadata": {},
   "source": [
    "# Board Array"
   ]
  },
  {
   "cell_type": "code",
   "execution_count": 1,
   "metadata": {},
   "outputs": [
    {
     "data": {
      "text/plain": [
       "100-element Array{Int64,1}:\n",
       "  0\n",
       "  1\n",
       "  2\n",
       "  3\n",
       "  4\n",
       "  5\n",
       "  6\n",
       "  7\n",
       "  8\n",
       "  9\n",
       " 10\n",
       " 11\n",
       " 12\n",
       "  ⋮\n",
       " 88\n",
       " 89\n",
       " 90\n",
       " 91\n",
       " 92\n",
       " 93\n",
       " 94\n",
       " 95\n",
       " 96\n",
       " 97\n",
       " 98\n",
       " 99"
      ]
     },
     "execution_count": 1,
     "metadata": {},
     "output_type": "execute_result"
    }
   ],
   "source": [
    "a = Vector(0:99) # start:end, 1次元配列は列ベクトル"
   ]
  },
  {
   "cell_type": "code",
   "execution_count": 2,
   "metadata": {},
   "outputs": [
    {
     "data": {
      "text/plain": [
       "0"
      ]
     },
     "execution_count": 2,
     "metadata": {},
     "output_type": "execute_result"
    }
   ],
   "source": [
    "a[1] # Juliaではindexは1から初まる（Pythonでは0から初まる）"
   ]
  },
  {
   "cell_type": "code",
   "execution_count": 3,
   "metadata": {},
   "outputs": [
    {
     "data": {
      "text/plain": [
       "1"
      ]
     },
     "execution_count": 3,
     "metadata": {},
     "output_type": "execute_result"
    }
   ],
   "source": [
    "ndims(a) # 次元の取得"
   ]
  },
  {
   "cell_type": "code",
   "execution_count": 4,
   "metadata": {},
   "outputs": [
    {
     "data": {
      "text/plain": [
       "100"
      ]
     },
     "execution_count": 4,
     "metadata": {},
     "output_type": "execute_result"
    }
   ],
   "source": [
    "length(a) # 全要素数の取得"
   ]
  },
  {
   "cell_type": "code",
   "execution_count": 5,
   "metadata": {},
   "outputs": [
    {
     "data": {
      "text/plain": [
       "Int64"
      ]
     },
     "execution_count": 5,
     "metadata": {},
     "output_type": "execute_result"
    }
   ],
   "source": [
    "eltype(a) # 要素の型の取得"
   ]
  },
  {
   "cell_type": "code",
   "execution_count": 6,
   "metadata": {},
   "outputs": [
    {
     "data": {
      "text/plain": [
       "1×100 LinearAlgebra.Transpose{Int64,Array{Int64,1}}:\n",
       " 0  1  2  3  4  5  6  7  8  9  10  11  …  91  92  93  94  95  96  97  98  99"
      ]
     },
     "execution_count": 6,
     "metadata": {},
     "output_type": "execute_result"
    }
   ],
   "source": [
    "transpose(a) # 転置"
   ]
  },
  {
   "cell_type": "code",
   "execution_count": 7,
   "metadata": {},
   "outputs": [
    {
     "data": {
      "text/plain": [
       "100-element Array{Float64,1}:\n",
       "  0.0\n",
       "  1.0\n",
       "  2.0\n",
       "  3.0\n",
       "  4.0\n",
       "  5.0\n",
       "  6.0\n",
       "  7.0\n",
       "  8.0\n",
       "  9.0\n",
       " 10.0\n",
       " 11.0\n",
       " 12.0\n",
       "  ⋮  \n",
       " 88.0\n",
       " 89.0\n",
       " 90.0\n",
       " 91.0\n",
       " 92.0\n",
       " 93.0\n",
       " 94.0\n",
       " 95.0\n",
       " 96.0\n",
       " 97.0\n",
       " 98.0\n",
       " 99.0"
      ]
     },
     "execution_count": 7,
     "metadata": {},
     "output_type": "execute_result"
    }
   ],
   "source": [
    "Array{Float64}(a) # 配列の型を変換"
   ]
  },
  {
   "cell_type": "code",
   "execution_count": 8,
   "metadata": {},
   "outputs": [
    {
     "data": {
      "text/plain": [
       "100-element Array{Float64,1}:\n",
       "  0.0\n",
       "  1.0\n",
       "  2.0\n",
       "  3.0\n",
       "  4.0\n",
       "  5.0\n",
       "  6.0\n",
       "  7.0\n",
       "  8.0\n",
       "  9.0\n",
       " 10.0\n",
       " 11.0\n",
       " 12.0\n",
       "  ⋮  \n",
       " 88.0\n",
       " 89.0\n",
       " 90.0\n",
       " 91.0\n",
       " 92.0\n",
       " 93.0\n",
       " 94.0\n",
       " 95.0\n",
       " 96.0\n",
       " 97.0\n",
       " 98.0\n",
       " 99.0"
      ]
     },
     "execution_count": 8,
     "metadata": {},
     "output_type": "execute_result"
    }
   ],
   "source": [
    "Vector{Float64}(a) # 上記と同じ変換"
   ]
  },
  {
   "cell_type": "code",
   "execution_count": 9,
   "metadata": {},
   "outputs": [
    {
     "data": {
      "text/plain": [
       "100-element Array{Int64,1}:\n",
       "  0\n",
       "  1\n",
       "  2\n",
       "  3\n",
       "  4\n",
       "  5\n",
       "  6\n",
       "  7\n",
       "  8\n",
       "  9\n",
       " 10\n",
       " 11\n",
       " 12\n",
       "  ⋮\n",
       " 88\n",
       " 89\n",
       " 90\n",
       " 91\n",
       " 92\n",
       " 93\n",
       " 94\n",
       " 95\n",
       " 96\n",
       " 97\n",
       " 98\n",
       " 99"
      ]
     },
     "execution_count": 9,
     "metadata": {},
     "output_type": "execute_result"
    }
   ],
   "source": [
    "Vector{Int64}(a) # Vector{Int64}(a)でも同じ"
   ]
  },
  {
   "cell_type": "markdown",
   "metadata": {},
   "source": [
    "# Board data"
   ]
  },
  {
   "cell_type": "code",
   "execution_count": 10,
   "metadata": {},
   "outputs": [
    {
     "data": {
      "text/plain": [
       "100-element Array{Int64,1}:\n",
       " -99\n",
       " -99\n",
       " -99\n",
       " -99\n",
       " -99\n",
       " -99\n",
       " -99\n",
       " -99\n",
       " -99\n",
       " -99\n",
       " -99\n",
       "   3\n",
       "   6\n",
       "   ⋮\n",
       "  -3\n",
       " -99\n",
       " -99\n",
       " -99\n",
       " -99\n",
       " -99\n",
       " -99\n",
       " -99\n",
       " -99\n",
       " -99\n",
       " -99\n",
       " -99"
      ]
     },
     "execution_count": 10,
     "metadata": {},
     "output_type": "execute_result"
    }
   ],
   "source": [
    "b = [-99, -99, -99, -99, -99, -99, -99, -99, -99, -99,\n",
    "     -99,   3,   6,   0,   0,   0,   0,  -6,  -3, -99, \n",
    "     -99,   5,   6,   0,   0,   0,   0,  -6,  -5, -99,\n",
    "     -99,   4,   6,   0,   0,   0,   0,  -6,  -4, -99,\n",
    "     -99,   2,   6,   0,   0,   0,   0,  -6,  -2, -99,\n",
    "     -99,   1,   6,   0,   0,   0,   0,  -6,  -1, -99,\n",
    "     -99,   4,   6,   0,   0,   0,   0,  -6,  -4, -99, \n",
    "     -99,   5,   6,   0,   0,   0,   0,  -6,  -5, -99,\n",
    "     -99,   3,   6,   0,   0,   0,   0,  -6,  -3, -99,\n",
    "     -99, -99, -99, -99, -99, -99, -99, -99, -99, -99]"
   ]
  },
  {
   "cell_type": "code",
   "execution_count": null,
   "metadata": {},
   "outputs": [],
   "source": []
  }
 ],
 "metadata": {
  "@webio": {
   "lastCommId": null,
   "lastKernelId": null
  },
  "kernelspec": {
   "display_name": "Julia 1.1.0",
   "language": "julia",
   "name": "julia-1.1"
  },
  "language_info": {
   "file_extension": ".jl",
   "mimetype": "application/julia",
   "name": "julia",
   "version": "1.1.0"
  }
 },
 "nbformat": 4,
 "nbformat_minor": 2
}
